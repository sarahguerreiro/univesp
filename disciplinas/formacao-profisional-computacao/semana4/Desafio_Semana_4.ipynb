{
  "nbformat": 4,
  "nbformat_minor": 0,
  "metadata": {
    "colab": {
      "provenance": [],
      "toc_visible": true
    },
    "kernelspec": {
      "name": "python3",
      "display_name": "Python 3"
    },
    "language_info": {
      "name": "python"
    }
  },
  "cells": [
    {
      "cell_type": "code",
      "execution_count": 2,
      "metadata": {
        "colab": {
          "base_uri": "https://localhost:8080/"
        },
        "id": "XrYHSDCbhgQJ",
        "outputId": "c6094285-2aa6-4d86-fad7-e6dfac8a1b91"
      },
      "outputs": [
        {
          "output_type": "stream",
          "name": "stdout",
          "text": [
            "Visitando http://univesp.br/\n",
            "Visitando http://univesp.br/vestibular\n",
            "Visitando http://univesp.br/cursos\n",
            "Visitando http://univesp.br/polos\n",
            "Visitando http://univesp.br/institucional\n",
            "Visitando http://univesp.br/transparencia\n",
            "Visitando http://univesp.br/transparencia/bolsa-eletronica-de-compras-bec\n",
            "Visitando http://univesp.br/transparencia/bolsas\n",
            "Visitando http://univesp.br/sites/58f6506869226e9479d38201/assets/6266b2707c1bd126800a10c0/Programa_de_Bolsas_-_Univesp_-_Vers_o_mar_o_2022.pdf\n",
            "Visitando http://univesp.br/sites/58f6506869226e9479d38201/assets/5e4edaa37c1bd1571deb68d6/Programa_de_Bolsas.pdf\n",
            "Visitando http://univesp.br/sites/58f6506869226e9479d38201/assets/5dde7dac7c1bd15cf783c77c/Bolsa_TT4_e_TT5.pdf\n",
            "Visitando http://univesp.br/sites/58f6506869226e9479d38201/assets/5e29a81e7c1bd1571deb6547/D.O._TT4-A_e_TT5.pdf\n",
            "Visitando http://univesp.br/sites/58f6506869226e9479d38201/assets/5e3876ae7c1bd10d79e05dc3/Recursos.pdf\n",
            "Visitando http://univesp.br/sites/58f6506869226e9479d38201/assets/5e59151f7c1bd17d32f6f443/14.pdf\n",
            "Visitando http://univesp.br/sites/58f6506869226e9479d38201/assets/5e59151f7c1bd17d32f6f442/15.pdf\n",
            "Visitando http://univesp.br/sites/58f6506869226e9479d38201/assets/5e6008f47c1bd17d32f6f465/Minuta_para_nova_convoca__o_da_publica__o_de_convoca__o_dos_bolsistas_TT4.pdf \n",
            "Visitando http://univesp.br/sites/58f6506869226e9479d38201/assets/5e99f9767c1bd17c14282bec/Comunicado_.pdf\n",
            "Visitando http://univesp.br/sites/58f6506869226e9479d38201/assets/5aa2f6fe69226eb232ab3e95/Edital_de_supervisa_o_OP_-_fevereiro_de_2018__2_.pdf\n",
            "Visitando http://univesp.br/sites/58f6506869226e9479d38201/assets/5aa2f6f469226e07523016e1/Construc_a_o_e_submissa_o_do_Projeto.pdf\n"
          ]
        }
      ],
      "source": [
        "from urllib.parse import urljoin\n",
        "from html.parser import HTMLParser\n",
        "from urllib.request import Request, urlopen\n",
        "\n",
        "class Collector(HTMLParser):\n",
        "    'coleta URLs de hyperklink em uma lista'\n",
        "    def __init__(self, url):\n",
        "        'inicializa analisador, o URL e uma lista'\n",
        "        HTMLParser.__init__(self)\n",
        "        self.url = url\n",
        "        self.links = []\n",
        "\n",
        "    def handle_starttag(self, tag, attrs):\n",
        "        'coleta URLs de hyperlink em sua forma absoluta'\n",
        "        if tag == 'a':\n",
        "            for attr in attrs:\n",
        "                if attr[0] == 'href':\n",
        "                    # constrÃ³i URL absoluto\n",
        "                    absolute = urljoin(self.url, attr[1])\n",
        "                    if absolute[:4] == 'http': # coleta URLs HTTP\n",
        "                        self.links.append(absolute)\n",
        "\n",
        "    def getLinks(self):\n",
        "        'retorna URLs de hyperlink em seu formato absoluto'\n",
        "        return self.links\n",
        "\n",
        "def analyze(url):\n",
        "    '''retorna a lista de links http, em formato absoluto,\n",
        "        na pÃ¡gina Web com URL url'''\n",
        "    print('Visitando', url) # para teste\n",
        "    # obtÃ©m links na pÃ¡gina Web\n",
        "    req = Request(url, headers={'User-Agent': 'Mozilla/5.0'})\n",
        "    content = urlopen(req).read().decode()\n",
        "    collector = Collector(url)\n",
        "    collector.feed(content)\n",
        "    urls = collector.getLinks()       # urls Ã© a lista de links\n",
        "    # anÃ¡lise do conteÃºdo da pÃ¡gina Web ainda a ser feita\n",
        "    return urls\n",
        "visited = set()\n",
        "def crawl(url):\n",
        "    'crawler Web recursiva que chama analyze() em cada pÃ¡gina Web'\n",
        "    # inclui url para conjunto de pÃ¡ginas visitadas\n",
        "    global visited       # embora nÃ£o necessÃ¡rio, avisa ao programador\n",
        "    visited.add(url)\n",
        "    if (len(visited)>=maxlinks):\n",
        "        return\n",
        "    # analyze() retorna uma lista de URLs de hyperlink no URL da pÃ¡gina Web\n",
        "    links = analyze(url)\n",
        "    # continua recursivamente a verificaÃ§Ã£o de cada link em links\n",
        "    for link in links:\n",
        "        if (externalLink):\n",
        "            follow = externalLink\n",
        "        else: follow = str(link).find(uri)>=0\n",
        "        if (link not in visited) and follow:\n",
        "            try: # bloco try porque o link pode nÃ£o ser um arquivo HTML vÃ¡lido\n",
        "                crawl(link)\n",
        "            except:            # se uma exceÃ§Ã£o for lanÃ§ada\n",
        "                pass           # ignora e prossegue.\n",
        "\n",
        "maxlinks= 20 # Limita o crawler para uma quantidade maxima\n",
        "externalLink=False # Flag para permitir seguir links fora do site\n",
        "uri='http://univesp.br/'\n",
        "crawl(uri)\n"
      ]
    }
  ]
}